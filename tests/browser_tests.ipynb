{
 "cells": [
  {
   "cell_type": "code",
   "execution_count": null,
   "metadata": {},
   "outputs": [],
   "source": [
    "from agent.tools.browser import ( \n",
    "    browser_new_tab, \n",
    "    browser_click, \n",
    "    browser_scroll, \n",
    "    browser_understand_page, \n",
    "    browser_hotkey, \n",
    "    browser_typewrite, \n",
    "    check_browser_download_folder,\n",
    "    check_browser_download_page)\n",
    "browser_new_tab.invoke({\"url\": \"https://google.com\", \"understand_page\": False })\n",
    "browser_typewrite.invoke({\"text\": \"hello\"})\n",
    "browser_hotkey.invoke({\"keys\": 'enter'})\n"
   ]
  },
  {
   "cell_type": "code",
   "execution_count": null,
   "metadata": {},
   "outputs": [],
   "source": [
    "from agent.tools.browser import  browser_scroll, browser_new_tab, browser_typewrite, browser_hotkey, browser_capture\n",
    "browser_hotkey.invoke({\"keys\": \"f6\", \"understand_page\": False})\n",
    "browser_typewrite.invoke({\"text\": \"Transformer\"})\n",
    "browser_hotkey.invoke({\"keys\": \"enter\", \"understand_page\": False})\n",
    "browser_scroll.invoke({\"direction\": \"down\", \"understand_page\": False})\n"
   ]
  }
 ],
 "metadata": {
  "kernelspec": {
   "display_name": "agent",
   "language": "python",
   "name": "python3"
  },
  "language_info": {
   "codemirror_mode": {
    "name": "ipython",
    "version": 3
   },
   "file_extension": ".py",
   "mimetype": "text/x-python",
   "name": "python",
   "nbconvert_exporter": "python",
   "pygments_lexer": "ipython3",
   "version": "3.12.7"
  }
 },
 "nbformat": 4,
 "nbformat_minor": 2
}
